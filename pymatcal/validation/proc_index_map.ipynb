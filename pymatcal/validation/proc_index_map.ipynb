{
 "cells": [
  {
   "cell_type": "code",
   "execution_count": 1,
   "metadata": {},
   "outputs": [],
   "source": [
    "import sys\n",
    "sys.path.insert(0, '..')\n",
    "import pymatcal\n",
    "import numpy as np\n",
    "import yaml"
   ]
  },
  {
   "cell_type": "code",
   "execution_count": 2,
   "metadata": {},
   "outputs": [],
   "source": [
    "config = pymatcal.get_config('configs/all_ppdfs.yml')\n",
    "NA = np.prod(config['img nvx'])\n",
    "NB = config['active dets'].shape[0]\n",
    "idmap = np.indices((NA, NB)).reshape(2, NA*NB).T\n",
    "img_subdivs = pymatcal.get_img_subdivs(config['mmpvx'], config['img nsub'])"
   ]
  },
  {
   "cell_type": "code",
   "execution_count": 3,
   "metadata": {},
   "outputs": [
    {
     "name": "stdout",
     "output_type": "stream",
     "text": [
      "[[11.   21.   21.   27.   -0.5   0.5   5.    0.48]\n",
      " [ 0.   10.    9.   15.   -0.5   0.5   2.    0.48]]\n",
      "[3700    0]\n"
     ]
    }
   ],
   "source": [
    "print(config['active dets'])\n",
    "print(idmap[7400])"
   ]
  },
  {
   "cell_type": "code",
   "execution_count": null,
   "metadata": {},
   "outputs": [],
   "source": []
  }
 ],
 "metadata": {
  "kernelspec": {
   "display_name": "Python 3",
   "language": "python",
   "name": "python3"
  },
  "language_info": {
   "codemirror_mode": {
    "name": "ipython",
    "version": 3
   },
   "file_extension": ".py",
   "mimetype": "text/x-python",
   "name": "python",
   "nbconvert_exporter": "python",
   "pygments_lexer": "ipython3",
   "version": "3.12.4"
  }
 },
 "nbformat": 4,
 "nbformat_minor": 2
}
