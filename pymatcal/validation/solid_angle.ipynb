{
 "cells": [
  {
   "cell_type": "markdown",
   "metadata": {},
   "source": [
    "## Validate Solid angle $\\Omega_{AB}$ calculation"
   ]
  },
  {
   "cell_type": "markdown",
   "metadata": {},
   "source": [
    "### Imports"
   ]
  },
  {
   "cell_type": "code",
   "execution_count": 1,
   "metadata": {},
   "outputs": [],
   "source": [
    "import sys\n",
    "sys.path.insert(0, '..')\n",
    "import pymatcal\n",
    "import matplotlib as mpl\n",
    "import matplotlib.pyplot as plt\n",
    "import numpy as np"
   ]
  },
  {
   "cell_type": "markdown",
   "metadata": {},
   "source": [
    "### Read in the configuration. \n",
    "The configuration read-in routine should already been tested by `get_config.ipynb`"
   ]
  },
  {
   "cell_type": "code",
   "execution_count": 2,
   "metadata": {},
   "outputs": [],
   "source": [
    "config = pymatcal.get_config('configs/pairs-ppdf.yml')"
   ]
  },
  {
   "cell_type": "markdown",
   "metadata": {},
   "source": [
    "### Get point A\n",
    "A index is 85"
   ]
  },
  {
   "cell_type": "code",
   "execution_count": 3,
   "metadata": {},
   "outputs": [
    {
     "name": "stdout",
     "output_type": "stream",
     "text": [
      "point A: [ 0. 30.  0.]\n"
     ]
    }
   ],
   "source": [
    "pointA=pymatcal.get_img_voxel_center(85, config['img nvx'], config['mmpvx'])\n",
    "print('point A:',pointA)"
   ]
  },
  {
   "cell_type": "markdown",
   "metadata": {},
   "source": [
    "### Show active detectors"
   ]
  },
  {
   "cell_type": "code",
   "execution_count": 4,
   "metadata": {},
   "outputs": [
    {
     "name": "stdout",
     "output_type": "stream",
     "text": [
      "Number of active detector units: 2\n",
      "[[11.   21.   21.   27.   -0.5   0.5   5.    0.48]\n",
      " [ 0.   10.    9.   15.   -0.5   0.5   2.    0.48]]\n"
     ]
    }
   ],
   "source": [
    "print(\"Number of active detector units:\",config['active det'].shape[0])\n",
    "print(config['active det'])"
   ]
  },
  {
   "cell_type": "markdown",
   "metadata": {},
   "source": [
    "### Setup subdivisions pairs\n",
    "We pick the first active detector in the test"
   ]
  },
  {
   "cell_type": "code",
   "execution_count": 5,
   "metadata": {},
   "outputs": [],
   "source": [
    "det_subdivs = pymatcal.get_det_subdivs(\n",
    "    config['active det'][0], config['det nsub'])\n",
    "img_subdivs = pymatcal.get_img_subdivs(config['mmpvx'], config['img nsub'])\n",
    "pAs = img_subdivs['coords']+pointA\n",
    "pBs = pymatcal.get_centroids(det_subdivs['geoms'])\n",
    "pAs = pymatcal.coord_transform(\n",
    "    pymatcal.get_mtransform(config['angle'], -config['dist'], 5), pAs)\n",
    "abpairs = pymatcal.get_AB_pairs(pAs, pBs)"
   ]
  },
  {
   "cell_type": "markdown",
   "metadata": {},
   "source": [
    "### Set blocking detector units array and the focused detector unit"
   ]
  },
  {
   "cell_type": "code",
   "execution_count": 6,
   "metadata": {},
   "outputs": [],
   "source": [
    "blocks = config[\"det geoms\"][config[\"det geoms\"][:,6] != config[\"active det\"][0][6]]\n",
    "focus_det = np.array([config[\"active det\"][0]])"
   ]
  },
  {
   "cell_type": "markdown",
   "metadata": {},
   "source": [
    "### Solid angle calculation\n",
    "$$\\Omega_{AB}$$"
   ]
  },
  {
   "cell_type": "markdown",
   "metadata": {},
   "source": [
    "#### Compare solid angle calculated w/wo subdivision"
   ]
  },
  {
   "cell_type": "code",
   "execution_count": 7,
   "metadata": {},
   "outputs": [],
   "source": [
    "nvx_total=np.prod(config['img nsub'])\n",
    "thisdet=config['active det'][0]"
   ]
  },
  {
   "cell_type": "markdown",
   "metadata": {},
   "source": [
    "1. ##### Without subdivision"
   ]
  },
  {
   "cell_type": "code",
   "execution_count": 8,
   "metadata": {},
   "outputs": [],
   "source": [
    "new_pointA = pymatcal.coord_transform(pymatcal.get_mtransform(config['angle'], -config['dist'], 5),np.array([pointA]))\n",
    "AB_pair=np.array([[new_pointA[0][0],new_pointA[0][1],new_pointA[0][2],np.sum(thisdet[0:2])*0.5,np.sum(thisdet[2:4])*0.5,np.sum(thisdet[4:6])*0.5]])\n",
    "det_incs=np.array([thisdet[1]-thisdet[0],thisdet[3]-thisdet[2],thisdet[5]-thisdet[4]])\n",
    "sa_terms_whole = pymatcal.get_solid_angles(AB_pair,det_incs)"
   ]
  },
  {
   "cell_type": "markdown",
   "metadata": {},
   "source": [
    "2. ##### With subdivision"
   ]
  },
  {
   "cell_type": "code",
   "execution_count": 9,
   "metadata": {},
   "outputs": [],
   "source": [
    "sa_terms = pymatcal.get_solid_angles(abpairs,det_subdivs['incs'])"
   ]
  },
  {
   "cell_type": "markdown",
   "metadata": {},
   "source": [
    "3. ##### Show the result\n",
    "There is a roughly 2 fold difference in the sum of the subdivisions solid angles and the whole detector unit solid angle to point A"
   ]
  },
  {
   "cell_type": "code",
   "execution_count": 10,
   "metadata": {},
   "outputs": [
    {
     "name": "stdout",
     "output_type": "stream",
     "text": [
      "Sum of the subdivisions       : 0.0013449321329769366\n",
      "As a whole detector unit to A : 0.0027039814995364728\n"
     ]
    }
   ],
   "source": [
    "print(\"Sum of the subdivisions       :\", sa_terms_whole[0])\n",
    "print(\"As a whole detector unit to A :\", np.sum(sa_terms) / nvx_total)"
   ]
  },
  {
   "cell_type": "markdown",
   "metadata": {},
   "source": [
    "4. Areas normal to the AB vector"
   ]
  },
  {
   "cell_type": "code",
   "execution_count": 11,
   "metadata": {},
   "outputs": [
    {
     "name": "stdout",
     "output_type": "stream",
     "text": [
      "Sum of the subdivisions       : 14.792937568177601\n",
      "As a whole detector unit to A : 7.4023825341545\n"
     ]
    }
   ],
   "source": [
    "sub_areas= pymatcal.get_norm_areas(abpairs,det_subdivs['incs'])\n",
    "whole_area = pymatcal.get_norm_areas(AB_pair,det_incs)\n",
    "print('Sum of the subdivisions       :',np.sum(sub_areas)/nvx_total)\n",
    "print('As a whole detector unit to A :',np.sum(whole_area))\n"
   ]
  }
 ],
 "metadata": {
  "kernelspec": {
   "display_name": "Python 3",
   "language": "python",
   "name": "python3"
  },
  "language_info": {
   "codemirror_mode": {
    "name": "ipython",
    "version": 3
   },
   "file_extension": ".py",
   "mimetype": "text/x-python",
   "name": "python",
   "nbconvert_exporter": "python",
   "pygments_lexer": "ipython3",
   "version": "3.10.12"
  }
 },
 "nbformat": 4,
 "nbformat_minor": 2
}
